{
 "cells": [
  {
   "cell_type": "markdown",
   "id": "51a9d419",
   "metadata": {},
   "source": [
    "# Classes and Objects\n",
    "\n",
    "Önceki bölümde C#'ın nesne yönelimli bir programlama dili olduğunu öğrendin.\n",
    "\n",
    "C#'daki her şey, nitelikleri ve methodları ile birlikte classlar ve objelerle ilişkilendirilir. Örneğin: gerçek hayatta araba bir objedir. Arabanın ağırlık ve renk gibi nitelikleri (**attribute**) ve sürüş ve fren gibi **method**ları vardır.\n",
    "\n",
    "Bir Class, bir obje oluşturucu veya obje oluşturmak için bir blueprint gibidir.\n",
    "\n",
    "## Create a Class\n",
    "\n",
    "Bir class oluşturmak için <code>class</code> keywordü kullanılır: \n",
    "\n",
    "<code>color</code> değişkenli \"<code>Car</code>\" isimli bir class oluştur: \n",
    "\n",
    "<img src = \"https://i.hizliresim.com/my9k6wu.png\">\n",
    "\n",
    "Bir değişken doğrudan bir classda bildirildiğinde, genellikle bir **field** (veya attribute) olarak adlandırılır.\n",
    "\n",
    "Zorunlu değildir, ancak classları adlandırırken ilk harfin büyük olması iyi bir uygulamadır. Ayrıca, kodunu organize ettiği için C# dosyasının ve class adının eşleşmesi de yaygındır. Ancak gerekli değildir (Java'daki gibi).\n",
    "\n",
    "## Create an Object\n",
    "\n",
    "Bir classdan bir obje oluşturulur. <code>Car</code> isimli classı zaten oluşturduk, bu yüzden artık bunu objeler oluşturmak için kullanabiliriz.\n",
    "\n",
    "Bir <code>Car</code> objesi oluşturmak için, class adını ve ardından obje adını belirt ve <code>new</code> keywordünü kullan: \n",
    "\n",
    "**Example**: \"<code>myObj</code>\" adlı bir obje oluştur ve onu <code>color</code> değerini yazdırmak için kullan: \n",
    "\n",
    "<img src = \"https://i.hizliresim.com/tuwdvjo.png\">\n",
    "\n",
    "Bir class içindeki değişkenlere/fieldlara (<code>myObj.color</code>) erişmek için nokta syntaxını (<code>.</code>) kullandığına dikkat et. \n",
    "\n"
   ]
  },
  {
   "cell_type": "markdown",
   "id": "6e50a3a9",
   "metadata": {},
   "source": [
    "# Multiple Classes and Objects\n",
    "\n",
    "## Multiple Objects\n",
    "\n",
    "Bir classdan birden çok obje oluşturabilirsin: \n",
    "\n",
    "**Example**: İki <code>Car</code> nesnesi oluştur: \n",
    "\n",
    "<img src = \"https://i.hizliresim.com/9cpkw5c.png\">\n",
    "\n",
    "## Using Multiple Classes\n",
    "\n",
    "Ayrıca bir classın objesini oluşturabilir ve ona başka bir classdan erişebilirsin. Bu genellikle classların daha iyi düzenlenmesi için kullanılır (bir class tüm fieldları ve methodları içerirken, diğer class <code>Main()</code> methodu (yürütülecek kod) tutar).\n",
    "\n",
    "* prog2.cs\n",
    "* prog.cs\n",
    "\n",
    "<img src = \"https://i.hizliresim.com/7kynerr.png\">\n",
    "\n",
    "### prog2.cs\n",
    "\n",
    "<img src = \"https://i.hizliresim.com/3gzgww7.png\">\n",
    "\n",
    "### prog.cs\n",
    "\n",
    "<img src = \"https://i.hizliresim.com/72qgfgu.png\">\n",
    "\n",
    "## Note\n",
    "\n",
    "<code>public</code> keywordünü fark ettin m? <code>Car</code>'ın <code>color</code> değişkeninin/fieldının <code>Program</code> gibi diğer classlar için de erişilebilir olduğunu belirten bir **access modifier** olarak adlandırılır."
   ]
  }
 ],
 "metadata": {
  "kernelspec": {
   "display_name": "Python 3 (ipykernel)",
   "language": "python",
   "name": "python3"
  },
  "language_info": {
   "codemirror_mode": {
    "name": "ipython",
    "version": 3
   },
   "file_extension": ".py",
   "mimetype": "text/x-python",
   "name": "python",
   "nbconvert_exporter": "python",
   "pygments_lexer": "ipython3",
   "version": "3.11.1"
  }
 },
 "nbformat": 4,
 "nbformat_minor": 5
}
