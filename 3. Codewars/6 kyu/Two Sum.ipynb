{
 "cells": [
  {
   "cell_type": "markdown",
   "id": "786540c3",
   "metadata": {},
   "source": [
    "Bir sayı arrayi (testler için integer) ve bir hedef sayi alan bir fonksiyon yaz. Arrayde birbirine eklendiğinde hedef değeri veren iki farklı item olmalıdır. Bu itemların indeksleri daha sonra şu şekilde bir tuple/listede döndürülmelidir: (index1, index2)\n",
    "\n",
    "<img src = \"https://i.hizliresim.com/qvxxdxg.png\">"
   ]
  }
 ],
 "metadata": {
  "kernelspec": {
   "display_name": "Python 3 (ipykernel)",
   "language": "python",
   "name": "python3"
  },
  "language_info": {
   "codemirror_mode": {
    "name": "ipython",
    "version": 3
   },
   "file_extension": ".py",
   "mimetype": "text/x-python",
   "name": "python",
   "nbconvert_exporter": "python",
   "pygments_lexer": "ipython3",
   "version": "3.11.1"
  }
 },
 "nbformat": 4,
 "nbformat_minor": 5
}
