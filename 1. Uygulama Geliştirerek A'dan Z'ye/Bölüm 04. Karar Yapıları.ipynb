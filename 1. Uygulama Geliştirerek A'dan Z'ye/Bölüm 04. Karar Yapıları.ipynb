{
 "cells": [
  {
   "cell_type": "markdown",
   "id": "84628ab8",
   "metadata": {},
   "source": [
    "# 1. Operatörler\n",
    "\n",
    "* <code>=</code>, atama operatörüdür.\n",
    "* <code>+-*/</code>, aritmetik işlem operatörleridir.\n",
    "* <code>%</code>, mod operatörüdür. Birinci sayının ikinci sayıya bölümünden kalanı verir.\n",
    "* <code>==</code>, sorgulama operatörüdür, eşit mi anlamı katar.\n",
    "* <code>>=</code>, büyük eşit operatörüdür.\n",
    "* <code><=</code>, küçük eşit operatörüdür.\n",
    "* <code>!=</code>, eşit değilse operatörüdür.\n",
    "* <code>&&</code>, ve operatörüdür. İki ifadeyi birleştirir.\n",
    "* <code>||</code>, veya operatörüdür. İki ifadeyi birleştirir.\n",
    "    \n",
    "---"
   ]
  },
  {
   "cell_type": "markdown",
   "id": "08eeadd7",
   "metadata": {},
   "source": [
    "# 2. If - Else\n",
    "\n",
    "* Karar yapıları if ve else'den oluşur. if eğer anlamı katarken, else değilse anlamı katar.\n",
    "\n",
    "## Kullanımı\n",
    "\n",
    "<img src = \"https://i.hizliresim.com/qqaef3k.png\">\n",
    "\n",
    "* Eğer Ali'den farklı bir şey yazılsaydı else bloğu çalışacaktı.\n",
    "\n",
    "### Örnek\n",
    "\n",
    "Bir sayının tek mi çift mi olduğunu bulan program.\n",
    "\n",
    "<img src = \"https://i.hizliresim.com/12p8ess.png\">\n",
    "\n",
    "## Not:\n",
    "\n",
    "* if yazdıktan sonra iki kere tab'a basarsan otomatik olarak kod bloğunu oluşturur.\n",
    "\n",
    "----"
   ]
  },
  {
   "cell_type": "markdown",
   "id": "70d2a543",
   "metadata": {},
   "source": [
    "# 3. Pratik Örnek - Öğrenci Sınav Durumu Hesaplama\n",
    "\n",
    "Öğrencinin notlarını alıp ortalamasına göre geçip kalmasını hesaplayan program.\n",
    "\n",
    "<img src = \"https://i.hizliresim.com/ox62kkp.png\">\n",
    "\n",
    "## Not:\n",
    "\n",
    "* Eğer TextBox, ListBox gibi araçlara tıklayıp veri girilmemesini istiyorsan, sadece bilgi versin istiyorsan **Enabled** özelliğini *False* yapman gerekir.\n",
    "\n",
    "---"
   ]
  },
  {
   "cell_type": "markdown",
   "id": "714bdde5",
   "metadata": {},
   "source": [
    "# 4. Pratik Örnek - Alışveriş İndirim Tutar Hesaplama\n",
    "\n",
    "Toplu kitap alımlarında indirim oranına göre ödenecek tutar hesaplayan program.\n",
    "\n",
    "<img src = \"https://i.hizliresim.com/419059w.png\">\n",
    "\n",
    "---"
   ]
  },
  {
   "cell_type": "markdown",
   "id": "a0bdb6d9",
   "metadata": {},
   "source": [
    "# 5. Switch - Case Yapısı\n",
    "\n",
    "* Eğer koşul basitse ancak çok fazla değer alabiliyorsa bu yapıyı kullanabilirsin.\n",
    "    * Ay numarasına göre ayın ismini veren program gibi.\n",
    "    \n",
    "## Kullanım    \n",
    "<img src = \"https://i.hizliresim.com/kejd0ln.png\">\n",
    "\n",
    "### Örnek\n",
    "\n",
    "Girilen sembole göre iki sayı arasında aritmetik işlem yapan program.\n",
    "\n",
    "<img src = \"https://i.hizliresim.com/gad745v.png\">\n",
    "\n",
    "---"
   ]
  },
  {
   "cell_type": "markdown",
   "id": "6e6c1927",
   "metadata": {},
   "source": [
    "# 6. Proje - Bilgi Yarışması\n",
    "\n",
    "<img src = \"https://i.hizliresim.com/ntn0avn.png\">\n",
    "\n",
    "<img src =\"https://i.hizliresim.com/ohdts49.png\">"
   ]
  }
 ],
 "metadata": {
  "kernelspec": {
   "display_name": "Python 3 (ipykernel)",
   "language": "python",
   "name": "python3"
  },
  "language_info": {
   "codemirror_mode": {
    "name": "ipython",
    "version": 3
   },
   "file_extension": ".py",
   "mimetype": "text/x-python",
   "name": "python",
   "nbconvert_exporter": "python",
   "pygments_lexer": "ipython3",
   "version": "3.11.1"
  }
 },
 "nbformat": 4,
 "nbformat_minor": 5
}
