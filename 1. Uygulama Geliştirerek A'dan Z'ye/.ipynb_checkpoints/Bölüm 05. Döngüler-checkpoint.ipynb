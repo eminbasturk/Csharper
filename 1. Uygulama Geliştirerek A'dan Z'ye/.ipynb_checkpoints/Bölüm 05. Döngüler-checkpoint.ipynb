{
 "cells": [
  {
   "cell_type": "markdown",
   "id": "87633060",
   "metadata": {},
   "source": [
    "# 1. Döngü Kavramı - Döngü Çeşitleri\n",
    "\n",
    "* Döngüler, tekrar eden durumlarda kullanılır.\n",
    "\n",
    "### Döngü Çeşitleri\n",
    "* **For**\n",
    "* **While**\n",
    "* **Do/While**\n",
    "* **Foreach**\n",
    "\n",
    "-----"
   ]
  },
  {
   "cell_type": "markdown",
   "id": "b98aaafc",
   "metadata": {},
   "source": [
    "# 2. For Döngüsü\n",
    "\n",
    "* Üç temel parametre üzerine kuruludur.\n",
    "* Parametreler birbirlerinden ; ile ayrılır.\n",
    "* Birinci parametre başlangıç değeri, ikinci parametre bitiş değeri, üçüncü parametre ise artış veya azalış değeridir.\n",
    "\n",
    "## Kullanımı\n",
    "\n",
    "<img src = \"https://i.hizliresim.com/il8i3ky.png\">\n",
    "\n",
    "----"
   ]
  },
  {
   "cell_type": "markdown",
   "id": "88c0ffaa",
   "metadata": {},
   "source": [
    "# 3. Break Point Kullanımı\n",
    "\n",
    "* Yapmış olduğun işlemleri adım adım görmeni sağlayan, hata yakalamada sıklıkla kullanılan bir yöntemdir.\n",
    "\n",
    "<img src = \"https://i.hizliresim.com/1n6w6xj.png\">\n",
    "\n",
    "* İlgili kısma resimdeki gibi nokta koyarsan o alana geldiğinde program adım adım ilerler.\n",
    "\n",
    "----"
   ]
  },
  {
   "cell_type": "markdown",
   "id": "7c38b347",
   "metadata": {},
   "source": [
    "# 4. Pratik Örnek - Ardışık Sayı Toplamları\n",
    "\n",
    "### 1 ile 10 arasındaki sayıların toplamı\n",
    "\n",
    "<img src = \"https://i.hizliresim.com/jm36kea.png\">\n",
    "\n",
    "### 1 ile 10 arasındaki çift sayıların toplamı\n",
    "\n",
    "<img src = \"https://i.hizliresim.com/r2nj27f.png\">\n",
    "\n",
    "----"
   ]
  },
  {
   "cell_type": "markdown",
   "id": "0a9de286",
   "metadata": {},
   "source": [
    "# 5. Karar Yapıları ile Döngü Kullanımı\n",
    "\n",
    "### 1 ile 10 arasındaki 3'e tam bölünen sayıları listele.\n",
    "\n",
    "<img src = \"https://i.hizliresim.com/dlnu241.png\">\n",
    "\n",
    "### Klavyeden girilen sayının tam bölenlerini bul.\n",
    "\n",
    "<img src = \"https://i.hizliresim.com/a64k0p2.png\">\n",
    "\n",
    "---"
   ]
  },
  {
   "cell_type": "markdown",
   "id": "c0a46cf2",
   "metadata": {},
   "source": [
    "# 6. While Döngüsü\n",
    "\n",
    "* Şart sağlandığı sürece çalışır.\n",
    "\n",
    "## Kullanımı\n",
    "\n",
    "<img src = \"https://i.hizliresim.com/tgmt1ar.png\">\n",
    "\n",
    "## Not:\n",
    "\n",
    "* While, SQL'den veri okurken sıklıkla kullanılır.\n",
    "\n",
    "------"
   ]
  },
  {
   "cell_type": "markdown",
   "id": "38aa0f35",
   "metadata": {},
   "source": [
    "# 7. Do While Döngüsü\n",
    "\n",
    "* Şart sağlandığı sürece çalışır. Ancak While'dan farklı olarak en az 1 kez çalışır.\n",
    "\n",
    "<img src = \"https://i.hizliresim.com/hvl3ke6.png\">\n",
    "\n",
    "---"
   ]
  },
  {
   "cell_type": "markdown",
   "id": "8ff9b2b2",
   "metadata": {},
   "source": [
    "# 8. <code>Timer</code> Kullanımı\n",
    "\n",
    "* Form'da kullanılabilen araçlardan biridir.\n",
    "* Bir sayıya kadar veya bir sayıdan geriye doğru zamanlama işlevi görür.\n",
    "* **Enabled** özelliği etkin olup olmamasını ayarlamamıza yarar.\n",
    "* **Interval** özelliği ise birimini ayarlamamızı sağlar.\n",
    "\n",
    "<img src = \"https://i.hizliresim.com/dp867pm.png\">\n",
    "\n",
    "* Butona basıldığında çalışmasını sağlamak için <code>.Start()</code> metodunu kullanırsın.\n",
    "* Her bir süre geçişinde de yapılması gereken işlemleri timer aracı üzerine çift tıklayarak yazabilirsin.\n",
    "\n",
    "<img src = \"https://i.hizliresim.com/ghsw6pk.png\">\n",
    "\n",
    "* Timerı durdurmak için <code>.Stop()</code> metodunu kullanabilirsin.\n",
    "* **this** kelimesini kullanarak üzerinde çalıştığın formun özelliklerine (*properties*) erişip üzerlerinde değişiklik yapabilirsin.\n",
    "\n",
    "<img src = \"https://i.hizliresim.com/527nj79.png\">\n",
    "\n",
    "### Alıştırma: Trafik Lambası\n",
    "\n",
    "0 ile 30 saniye arasında kırmızı, 30 ile 40 arasında sarı, 40 ile 70 saniye arasında da yeşil yanan bir trafik lambası programı yaz.\n",
    "\n",
    "<img src = \"https://i.hizliresim.com/85fcbwu.png\">\n",
    "\n",
    "----"
   ]
  },
  {
   "cell_type": "markdown",
   "id": "107f8913",
   "metadata": {},
   "source": [
    "# 9. Pratik Örnek - Timer ile Dijital Saat\n",
    "\n",
    "* Timer uygulama başlar başlamaz çalışsın istiyorsan **Enabled** özelliğini *true* yap.\n",
    "\n",
    "<img src = \"https://i.hizliresim.com/6q0l51u.png\">\n",
    "\n",
    "---"
   ]
  },
  {
   "cell_type": "markdown",
   "id": "a140eabc",
   "metadata": {},
   "source": [
    "# 10. <code>ProgressBar</code> Kullanımı\n",
    "\n",
    "* Bir durumun doluluk oranını gösterir.\n",
    "\n",
    "## Örnek\n",
    "\n",
    "+ ve - butonları olsun ve bu butonlara basıldıkça durum çubuğundaki ibare 10 birim artsın veya azalsın\n",
    "\n",
    "<img src = \"https://i.hizliresim.com/9wbrn3c.png\">\n",
    "\n",
    "## Not:\n",
    "\n",
    "* **Value**, **Maximum** ve **Minimum** özellikleri sıklıkla kullanılır.\n",
    "\n",
    "---"
   ]
  },
  {
   "cell_type": "markdown",
   "id": "6716b3f3",
   "metadata": {},
   "source": [
    "# 11. Proje - Pasta Pişirme Süreç Uygulaması\n",
    "\n",
    "<img src = \"https://i.hizliresim.com/ad1ljrx.png\">"
   ]
  }
 ],
 "metadata": {
  "kernelspec": {
   "display_name": "Python 3 (ipykernel)",
   "language": "python",
   "name": "python3"
  },
  "language_info": {
   "codemirror_mode": {
    "name": "ipython",
    "version": 3
   },
   "file_extension": ".py",
   "mimetype": "text/x-python",
   "name": "python",
   "nbconvert_exporter": "python",
   "pygments_lexer": "ipython3",
   "version": "3.11.1"
  }
 },
 "nbformat": 4,
 "nbformat_minor": 5
}
