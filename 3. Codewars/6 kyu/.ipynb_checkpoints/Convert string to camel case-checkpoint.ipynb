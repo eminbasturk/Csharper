{
 "cells": [
  {
   "cell_type": "markdown",
   "id": "cb703901",
   "metadata": {},
   "source": [
    "Metodu/fonksiyonu, kısa çizgi/alt çizgi ile ayrılmış kelimeleri büyük/küçük harfe dönüştürecek şekilde tanımla. Çıktıdaki ilk sözcük, yalnızca orijinal sözcük büyük harfle yazılmışsa büyük harfle yazılmalıdır. Sonraki kelimeler her aman büyük harfle yazılmalıdır.\n",
    "\n",
    "\"the-stealth-warrior\" gets converted to \"theStealthWarrior\"\n",
    "\n",
    "\"The_Stealth_Warrior\" gets converted to \"TheStealthWarrior\"\n",
    "\n",
    "\"The_Stealth-Warrior\" gets converted to \"TheStealthWarrior\"\n",
    "\n",
    "<img src = \"https://i.hizliresim.com/t7rp8r2.png\">\n",
    "\n",
    "<img src = \"https://i.hizliresim.com/bizk2fl.png\">"
   ]
  }
 ],
 "metadata": {
  "kernelspec": {
   "display_name": "Python 3 (ipykernel)",
   "language": "python",
   "name": "python3"
  },
  "language_info": {
   "codemirror_mode": {
    "name": "ipython",
    "version": 3
   },
   "file_extension": ".py",
   "mimetype": "text/x-python",
   "name": "python",
   "nbconvert_exporter": "python",
   "pygments_lexer": "ipython3",
   "version": "3.11.1"
  }
 },
 "nbformat": 4,
 "nbformat_minor": 5
}
