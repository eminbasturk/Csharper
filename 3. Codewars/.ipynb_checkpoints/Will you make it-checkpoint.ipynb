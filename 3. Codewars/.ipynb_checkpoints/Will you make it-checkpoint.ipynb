{
 "cells": [
  {
   "cell_type": "markdown",
   "id": "b825c218",
   "metadata": {},
   "source": [
    "Evden uzakta arkadaşlarınızla kamp yapıyordunuz ama dönüş vakti geldiğinde yakıtınızın bitmek üzere olduğunu ve en yakın pompanın 50 mil uzakta olduğunu fark ediyorsunuz! Arabanın ortalama olarak galon başına yaklaşık 25 mil hızla çalıştığını biliyorsun. 2 galon kaldı. \n",
    "\n",
    "Bu faktörleri göz önünde bulundurarak pompaya ulaşmanın mümkün olup olmadığını söyleyen bir fonksiyon yaz.\n",
    "\n",
    "Fonksiyon mümkünse true, değilse false döndürmelidir."
   ]
  },
  {
   "cell_type": "code",
   "execution_count": null,
   "id": "0e0387ff",
   "metadata": {},
   "outputs": [],
   "source": []
  }
 ],
 "metadata": {
  "kernelspec": {
   "display_name": "Python 3 (ipykernel)",
   "language": "python",
   "name": "python3"
  },
  "language_info": {
   "codemirror_mode": {
    "name": "ipython",
    "version": 3
   },
   "file_extension": ".py",
   "mimetype": "text/x-python",
   "name": "python",
   "nbconvert_exporter": "python",
   "pygments_lexer": "ipython3",
   "version": "3.11.1"
  }
 },
 "nbformat": 4,
 "nbformat_minor": 5
}
