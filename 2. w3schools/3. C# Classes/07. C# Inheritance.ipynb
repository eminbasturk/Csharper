{
 "cells": [
  {
   "cell_type": "markdown",
   "id": "fb8e7442",
   "metadata": {},
   "source": [
    "# Inheritance (Derived and Base Class)\n",
    "\n",
    "C#'ta fieldları ve methodları bir classdan diğerine miras olarak almak mümkündür. \"Inheritance concept\" iki kategoriye ayrılır: \n",
    "\n",
    "* **Derived Class** (child) - başka bir classtan miras alan class\n",
    "* **Base Class** (parent) - miras alınan class\n",
    "\n",
    "Bir classtan miras almak için <code>:</code> sembolünü kullan.\n",
    "\n",
    "Aşağıdaki örnekte, <code>Car</code> classı (child), <code>Vehicle</code> classından (parent) fieldları ve methodları devralır:\n",
    "\n",
    "<img src = \"https://i.hizliresim.com/brzlou9.png\">\n",
    "\n",
    "### Why And When To Use \"Inheritance\"?\n",
    "\n",
    "- Kodun yeniden kullanılabilirliği için kullanışlıdır: yeni bir class oluşturduunda mevcut bir classın fieldlarını ve methodlarını yeniden kullan.\n",
    "\n",
    "## The sealed Keyword\n",
    "\n",
    "Diğer classların bir classtan miras almasını istemiyorsan, <code>sealed</code> keywordünü kullan.\n",
    "\n",
    "<code>sealed</code> olan bir classa erişmeye çalışırsan, C# bir hata üretecektir: \n",
    "\n",
    "<img src = \"https://i.hizliresim.com/cc7lcyf.png\">"
   ]
  }
 ],
 "metadata": {
  "kernelspec": {
   "display_name": "Python 3 (ipykernel)",
   "language": "python",
   "name": "python3"
  },
  "language_info": {
   "codemirror_mode": {
    "name": "ipython",
    "version": 3
   },
   "file_extension": ".py",
   "mimetype": "text/x-python",
   "name": "python",
   "nbconvert_exporter": "python",
   "pygments_lexer": "ipython3",
   "version": "3.11.1"
  }
 },
 "nbformat": 4,
 "nbformat_minor": 5
}
