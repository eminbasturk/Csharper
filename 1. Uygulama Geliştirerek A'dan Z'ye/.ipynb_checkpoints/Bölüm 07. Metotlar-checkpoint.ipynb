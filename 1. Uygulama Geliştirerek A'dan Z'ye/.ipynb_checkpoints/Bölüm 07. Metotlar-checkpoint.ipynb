{
 "cells": [
  {
   "cell_type": "markdown",
   "id": "3f5b7596",
   "metadata": {},
   "source": [
    "# 1. Metot Nedir - Teorik Bilgi\n",
    "\n",
    "* Metot, komutları bir araya toplayan yapılardır. \n",
    "* Tekrar gerektiren durumlarda bir kere yazılan metot tekrar tekrar çalıştırılabilir. \n",
    "* **Ne kadar az komut satırı kullanırsan, o kadar iyi.**\n",
    "* Metotlar güvenlik bakımından ikiye ayrılır; **public** ve **private**\n",
    "* Değer döndürme bakımından ikiye ayrılır; **geriye değer döndüren** ve **geriye değer döndürmeyen**\n",
    "\n",
    "----"
   ]
  },
  {
   "cell_type": "markdown",
   "id": "91f4cd28",
   "metadata": {},
   "source": [
    "# 2. Geriye Değer Döndürmeyen Metotlar\n",
    "\n",
    "* **private**, sadece o form özelinde çalışır.\n",
    "* **void**, geriye değer dönürmeyen metottur.\n",
    "* private veya public belirtmezsen otomatik olarak **private** kabul eder.\n",
    "\n",
    "<img src = \"https://i.hizliresim.com/862uvmq.png\">\n",
    "\n",
    "---"
   ]
  },
  {
   "cell_type": "markdown",
   "id": "b1bccbc8",
   "metadata": {},
   "source": [
    "# 3. Geriye Değer Döndüren Metotlar\n",
    "\n",
    "* Aldığı parametrelere göre veya herhangi bir parametre olmadan geriye bir sonuç döndürebilen metotlardır.\n",
    "* Değerler değişken türlerine göre belirlenir.\n",
    "\n",
    "<img src = \"https://i.hizliresim.com/s27vaw1.png\">\n",
    "\n",
    "\n",
    "----"
   ]
  },
  {
   "cell_type": "markdown",
   "id": "7be159ab",
   "metadata": {},
   "source": [
    "# 4. Pratik Örnek - Küp Hesaplayan Metot\n",
    "\n",
    "Klavyeden girilen sayının küpünü alan program\n",
    "\n",
    "<img src = \"https://i.hizliresim.com/97yikf2.png\">"
   ]
  }
 ],
 "metadata": {
  "kernelspec": {
   "display_name": "Python 3 (ipykernel)",
   "language": "python",
   "name": "python3"
  },
  "language_info": {
   "codemirror_mode": {
    "name": "ipython",
    "version": 3
   },
   "file_extension": ".py",
   "mimetype": "text/x-python",
   "name": "python",
   "nbconvert_exporter": "python",
   "pygments_lexer": "ipython3",
   "version": "3.11.1"
  }
 },
 "nbformat": 4,
 "nbformat_minor": 5
}
