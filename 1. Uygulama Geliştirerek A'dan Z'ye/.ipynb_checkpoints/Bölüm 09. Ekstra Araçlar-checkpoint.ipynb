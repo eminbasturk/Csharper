{
 "cells": [
  {
   "cell_type": "markdown",
   "id": "a8b7655b",
   "metadata": {},
   "source": [
    "# 1. Menu Strip Kullanımı\n",
    "\n",
    "* Form içerisinde menü tasarlayıp kullanabileceğin araç **MenuStrip**tir.\n",
    "* Kategorileri aşağıdaki gibi yan yana ve iç içe açılır şekilde tasarlayabilirsin.\n",
    "\n",
    "<img src = \"https://i.hizliresim.com/cm35gp8.png\">\n",
    "\n",
    "* Örneğin aşağıdaki gibi bir menü itemına tıklandığında arka plan rengini değiştirebilirsin.\n",
    "\n",
    "<img src = \"https://i.hizliresim.com/ibnnn9x.png\">\n",
    "\n",
    "* Veya bir menü itemına tıklandığında ekrana **MessageBox** bastırabilirsin.\n",
    "* MessegeBox içerisine dört adet parametre girebilirsin.\n",
    "    * 1. Mesaj\n",
    "    * 2. Başlık\n",
    "    * 3. Tıklanmak üzere bulunan butonlar (OK yalnızca \"tamam\" demek için bulunur)\n",
    "    * 4. MessageBox'ın iconu (Information bilgi iconudur)\n",
    "    \n",
    "<img src = \"https://i.hizliresim.com/t7yyuxo.png\">\n",
    "\n",
    "* Veya uygulamadan çıkmak için de bir menü itemı ekleyebilirsin.\n",
    "\n",
    "<img src = \"https://i.hizliresim.com/flnp71z.png\">\n",
    "\n",
    "----"
   ]
  },
  {
   "cell_type": "markdown",
   "id": "0b6670ea",
   "metadata": {},
   "source": [
    "# 2. Web Browser Kullanımı / Sinema Fragman Projesi Hazırlama / 2\n",
    "\n",
    "* **WebBrowser** internette gezinebilmen için bir internet arayüzü oluşturur.\n",
    "\n",
    "<img src = \"https://i.hizliresim.com/ognt0ef.png\">\n",
    "\n",
    "---"
   ]
  },
  {
   "cell_type": "markdown",
   "id": "b7bc6d8c",
   "metadata": {},
   "source": [
    "# 3. Chart (Grafik) Aracı Kullanımı\n",
    "\n",
    "* **Chart** toolu forma grafik yerleştirmeye yarar.\n",
    "\n",
    "<img src = \"https://i.hizliresim.com/4a23v9v.png\">\n",
    "\n",
    "* Çeşitli grafikler kullanabilirsin.\n",
    "* *Palette* propertysinden renk paletini değiştirebilirsin.\n",
    "* Verileri *Name*e yazdığın kategoriye göre eklersin.\n",
    "* Name = \"Kitap\" olduğu zaman eklemeler böyle yapılır.\n",
    "\n",
    "<img src = \"https://i.hizliresim.com/s84f25j.png\">\n",
    "\n",
    "\n",
    "---"
   ]
  },
  {
   "cell_type": "markdown",
   "id": "5e5b9342",
   "metadata": {},
   "source": [
    "# 4. Context Menu Strip Kullanımı\n",
    "\n",
    "* **ContextMenuStrip**, form üzerinde sağ tıklandığında gelen menüdür.\n",
    "* Tasarımı MenuStripe benzer yapılır ancak Form'un property kısmından Form'a tanıtman gerekir.\n",
    "\n",
    "<img src = \"https://i.hizliresim.com/3uxug16.png\">\n",
    "\n",
    "* MenuStripe benzer şekilde arka plan değiştirme, hakkımda, çıkış gibi işlemler yaptırabilirsin.\n",
    "\n",
    "<img src = \"https://i.hizliresim.com/pni6n0r.png\">\n",
    "\n",
    "* Aynı zamanda sisteminde bulunan hesap makinesi, paint gibi windows uygulamalarını açmak için de komut kullanabilirsin.\n",
    "\n",
    "<img src =\"https://i.hizliresim.com/6urxir3.png\">"
   ]
  }
 ],
 "metadata": {
  "kernelspec": {
   "display_name": "Python 3 (ipykernel)",
   "language": "python",
   "name": "python3"
  },
  "language_info": {
   "codemirror_mode": {
    "name": "ipython",
    "version": 3
   },
   "file_extension": ".py",
   "mimetype": "text/x-python",
   "name": "python",
   "nbconvert_exporter": "python",
   "pygments_lexer": "ipython3",
   "version": "3.11.1"
  }
 },
 "nbformat": 4,
 "nbformat_minor": 5
}
