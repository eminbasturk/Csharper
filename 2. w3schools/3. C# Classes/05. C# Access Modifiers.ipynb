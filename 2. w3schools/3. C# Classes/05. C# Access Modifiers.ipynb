{
 "cells": [
  {
   "cell_type": "markdown",
   "id": "9bdea3ec",
   "metadata": {},
   "source": [
    "# Access Modifiers\n",
    "\n",
    "Şimdiye kadar, birçok örnekte geçen <code>public</code> keywordüne oldukça aşinasın: \n",
    "\n",
    "<img src = \"https://i.hizliresim.com/ifwr7j1.png\">\n",
    "\n",
    "<code>public</code> keywordü, classlar, fieldlar, methodlar ve propertyler için erişim düzeyini/görünürlüğü ayarlamak için kullanılan bir **access modifier**dır.\n",
    "\n",
    "C# aşağıdaki access modifierlara sahiptir: \n",
    "\n",
    "| **Modifier** | **Description** | \n",
    "| --- | --- |\n",
    "| <code>public</code> | Koda tüm classlar erişebilir |\n",
    "| <code>private</code> | Koda yalnızca aynı class içinde erişilebilir |\n",
    "| <code>protected</code> | Koda aynı class içinde veya o classtan miras alınan (inherited) bir classla erişilebilir. |\n",
    "| <code>internal</code> | Koda yalnızca kendi derlemesinden erişilebilir, başka bir derlemeden erişilemez. |\n",
    "\n",
    "Ayrıca iki kombinasyon vardır: <code>protected internal</code> ve <code>private protected</code>\n",
    "\n",
    "## Private Modifier\n",
    "\n",
    "<code>private</code> access modifierlı bir field tanımlarsan, ona yalnızca aynı class içinde erişilebilir: \n",
    "\n",
    "<img src = \"https://i.hizliresim.com/fzcntn4.png\">\n",
    "\n",
    "Class dışında erişmeye çalışırsan, bir hata oluşur:\n",
    "\n",
    "<img src = \"https://i.hizliresim.com/bxxegft.png\">\n",
    "\n",
    "<img src = \"https://i.hizliresim.com/obgg5ls.png\">\n",
    "\n",
    "## Public Modifier\n",
    "\n",
    "<code>public</code> access modifier olan bir field tanımlarsan, tüm classlar için erişilebilir hale gelir:\n",
    "\n",
    "<img src = \"https://i.hizliresim.com/8cdemt6.png\">\n",
    "\n",
    "## Why Access Modifiers?\n",
    "\n",
    "Class membersın görünürlüğünü kontrol etmek için (her bir classın ve class memberının güvenlik düzeyi)\n",
    "\n",
    "\"Hassas\" verilerin kullanıcılardan gizlendiğinden emin olma süreci olan \"**Encapsulation**\"a ulaşmak için. Bu, fieldları <code>private</code> olarak tanımlayarak yapılır. \n",
    "\n",
    "**Note**: Default olarak, bir access modifier belirtmezsen classın tüm üyeleri <code>private</code> olarak tanımlanır.\n",
    "\n",
    "<img src =\"https://i.hizliresim.com/t5o67jd.png\">"
   ]
  }
 ],
 "metadata": {
  "kernelspec": {
   "display_name": "Python 3 (ipykernel)",
   "language": "python",
   "name": "python3"
  },
  "language_info": {
   "codemirror_mode": {
    "name": "ipython",
    "version": 3
   },
   "file_extension": ".py",
   "mimetype": "text/x-python",
   "name": "python",
   "nbconvert_exporter": "python",
   "pygments_lexer": "ipython3",
   "version": "3.11.1"
  }
 },
 "nbformat": 4,
 "nbformat_minor": 5
}
