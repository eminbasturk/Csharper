{
 "cells": [
  {
   "cell_type": "markdown",
   "id": "67b82159",
   "metadata": {},
   "source": [
    "Fibonacci sayıları, aşağıdaki tamsayı arrayindeki (Fn) sayılardır:\n",
    "\n",
    "\"0, 1, 1, 2, 3, 5, 8, 13, 21, 34, 55, 89, 144, 233, ...\"\n",
    "\n",
    "örneğin\n",
    "\n",
    "F(n) = F(n-1) + F(n-2) with F(0) = 0 and F(1) = 1.\n",
    "\n",
    "Bir sayı verildiğinde, prod (product için) diyelim, doğrulamak için iki Fibonacci sayısını F(n) ve F(n+1) ararız.\n",
    "\n",
    "F(n) * F(n+1) = prod\n",
    "\n",
    "productFib methodun bir tamsayı (prod) alır ve bir dizi döndürür: \n",
    "\n",
    "[F(n), F(n+1), true] or {F(n), F(n+1), 1} or (F(n), F(n+1), True)\n",
    "\n",
    "dile bağlı olarak F(n) * F(n+1) = prod\n",
    "\n"
   ]
  },
  {
   "cell_type": "markdown",
   "id": "98cd2e9d",
   "metadata": {},
   "source": [
    "<img src = \"https://i.hizliresim.com/poyyimn.png\">\n",
    "\n",
    "<img src = \"https://i.hizliresim.com/f3bcpb9.png\">"
   ]
  }
 ],
 "metadata": {
  "kernelspec": {
   "display_name": "Python 3 (ipykernel)",
   "language": "python",
   "name": "python3"
  },
  "language_info": {
   "codemirror_mode": {
    "name": "ipython",
    "version": 3
   },
   "file_extension": ".py",
   "mimetype": "text/x-python",
   "name": "python",
   "nbconvert_exporter": "python",
   "pygments_lexer": "ipython3",
   "version": "3.11.1"
  }
 },
 "nbformat": 4,
 "nbformat_minor": 5
}
