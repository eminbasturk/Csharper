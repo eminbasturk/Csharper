{
 "cells": [
  {
   "cell_type": "markdown",
   "id": "435274fd",
   "metadata": {},
   "source": [
    "# 1. Random Komutu\n",
    "\n",
    "* **Random**, içerisinden rastgele sayılar üretebildiğin bir sınıftır.\n",
    "* Sınıftan oluşturulan nesneye iletilen **Next** metodu ile bu üretim sağlanır.\n",
    "* Next metodu iki adet parametre alır. Bunlar başlangıç ve bitiş değerleridir. İlk değer dahil, ikinci değer hariç olacak şekilde ilgili aralıktan bir sayı üretilir.\n",
    "\n",
    "<img src = \"https://i.hizliresim.com/jjbgtrx.png\">\n",
    "\n",
    "### Aynı aralıkta üç farklı sayı üretimi\n",
    "\n",
    "<img src = \"https://i.hizliresim.com/oowk5j1.png\">\n",
    "\n",
    "---"
   ]
  },
  {
   "cell_type": "markdown",
   "id": "8eace097",
   "metadata": {},
   "source": [
    "# 2. Örnek Proje - Sayısal Loto Uygulaması\n",
    "\n",
    "<img src = \"https://i.hizliresim.com/7e3toer.png\">\n",
    "\n",
    "---"
   ]
  },
  {
   "cell_type": "markdown",
   "id": "c6610009",
   "metadata": {},
   "source": [
    "# 3. Captcha Oluşturma\n",
    "\n",
    "<img src = \"https://i.hizliresim.com/aaj9s78.png\">\n",
    "\n",
    "---"
   ]
  },
  {
   "cell_type": "markdown",
   "id": "5e05e7b2",
   "metadata": {},
   "source": [
    "# 4. Formlar Arası Geçiş\n",
    "\n",
    "* Eklediğin formdan bir nesne üretip onu gösterirsin.\n",
    "* Önceki formu gizleyebilirsin ancak bu şekilde sadece gizleme olduğu için yeni formu kapattığında uygulama sonlanmaz.\n",
    "\n",
    "<img src = \"https://i.hizliresim.com/q23cupd.png\">\n",
    "\n",
    "---"
   ]
  },
  {
   "cell_type": "markdown",
   "id": "cc51bd68",
   "metadata": {},
   "source": [
    "# 5. Formlar Arası Veri Taşıma\n",
    "\n",
    "* Verinin aktarılacağı formda global değişkenler tanımlanır ve ilk formdan atamalar gerçekleşir.\n",
    "\n",
    "<img src = \"https://i.hizliresim.com/8if6b0u.png\">\n",
    "\n",
    "<img src = \"https://i.hizliresim.com/nv3zmjn.png\">\n",
    "\n",
    "### TextBoxlardan ComboBox'a\n",
    "\n",
    "<img src = \"https://i.hizliresim.com/cr5oqwb.png\">\n",
    "\n",
    "<img src = \"https://i.hizliresim.com/sdxdfsy.png\">\n",
    "\n",
    "---\n"
   ]
  },
  {
   "cell_type": "markdown",
   "id": "2f688039",
   "metadata": {},
   "source": [
    "# 6. Point Yapısı\n",
    "\n",
    "* X ve Y koordinatlarını kullanabilmek için gereklidir.\n",
    "* Bir şeyler oldukça nesnelerin konumlarını vs değiştirebilirsin.\n",
    "\n",
    "<img src = \"https://i.hizliresim.com/comw6y4.png\">\n",
    "\n",
    "\n",
    "---"
   ]
  },
  {
   "cell_type": "markdown",
   "id": "db772804",
   "metadata": {},
   "source": [
    "# 7. Enum Yapısı\n",
    "\n",
    "* Karar yapıların çok fazla olabileceği, verilerin ardışık olarak geldiği durumlarda kullanılan yapılardır.\n",
    "\n",
    "<img src = \"https://i.hizliresim.com/fc58uek.png\">"
   ]
  },
  {
   "cell_type": "markdown",
   "id": "dec6ad1f",
   "metadata": {},
   "source": [
    "# 8. Matematik Fonksiyonları\n",
    "\n",
    "### <code>Math.Abs()</code>\n",
    "\n",
    "* İçine girilen sayının mutlak değerini alır.\n",
    "\n",
    "<img src = \"https://img.imgyukle.com/2023/06/02/rIrjxA.png\">\n",
    "\n",
    "### <code>Math.Ceiling()</code>\n",
    "\n",
    "* İçine girilen ondalıklı sayıyı üst tam sayıya yuvarlar.\n",
    "\n",
    "<img src = \"https://img.imgyukle.com/2023/06/02/rIrGqQ.png\">\n",
    "\n",
    "### <code>Math.Floor()</code>\n",
    "\n",
    "* İçine girilen ondalıklı sayının ondalık kısmını atar.\n",
    "\n",
    "<img src = \"https://img.imgyukle.com/2023/06/02/rIrKbe.png\">\n",
    "\n",
    "### <code>Math.Pow()</code>\n",
    "\n",
    "* Sayının üssünü alır. Birinci parametre sayı, ikinci parametre üstür.\n",
    "\n",
    "<img src = \"https://img.imgyukle.com/2023/06/02/rIr9hh.png\">\n",
    "\n",
    "### <code>Math.Sqrt()</code>\n",
    "\n",
    "* İçine girilen sayının karekökünü alır.\n",
    "\n",
    "<img src = \"https://img.imgyukle.com/2023/06/02/rIykIH.png\">\n",
    "\n",
    "### <code>Math.PI</code>\n",
    "\n",
    "* PI sayısını verir.\n",
    "\n",
    "<img src = \"https://img.imgyukle.com/2023/06/02/rIyC2s.png\">"
   ]
  },
  {
   "cell_type": "markdown",
   "id": "7be778a3",
   "metadata": {},
   "source": [
    "# 9. Dinamik Araçlar\n",
    "\n",
    "* Form üzerine sürükle bırak yapmadan kod ekranında da araçları tanımlayıp formuna ekleyebilirsin.\n",
    "* Özellikle çok fazla araç kullanabileceğin durumlarda bunu yapabilirsin.\n",
    "\n",
    "<img src = \"https://img.imgyukle.com/2023/06/02/rIywSR.png\">\n",
    "\n",
    "* Button oluşturmak için **Button** classını, label oluşturmak için **Label** classını, textbox oluşturmak için de **TextBox** classını kullanabilirsin.\n",
    "* Araçların konumlarını belirlemek için **Point** classını kullanıp araçların *Location* propertylerini kullanabilirsin.\n",
    "* <code>this.Controls.Add()</code> ile aracı formuna eklersin."
   ]
  }
 ],
 "metadata": {
  "kernelspec": {
   "display_name": "Python 3 (ipykernel)",
   "language": "python",
   "name": "python3"
  },
  "language_info": {
   "codemirror_mode": {
    "name": "ipython",
    "version": 3
   },
   "file_extension": ".py",
   "mimetype": "text/x-python",
   "name": "python",
   "nbconvert_exporter": "python",
   "pygments_lexer": "ipython3",
   "version": "3.11.1"
  }
 },
 "nbformat": 4,
 "nbformat_minor": 5
}
