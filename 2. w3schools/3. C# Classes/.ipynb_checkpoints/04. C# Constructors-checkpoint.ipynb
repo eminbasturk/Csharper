{
 "cells": [
  {
   "cell_type": "markdown",
   "id": "b8ee09e4",
   "metadata": {},
   "source": [
    "# Constructors\n",
    "\n",
    "Constructor, objeleri başlatmak için kullanılan **special bir method**dur. Bir constructorın avantajı, bir classın objesi oluşturulduğunda çağrılmasıdır. Fieldlar için başlangıç değerlerini ayarlamak için kullanılabilir: \n",
    "\n",
    "<img src = \"https://i.hizliresim.com/rhpjdos.png\">\n",
    "\n",
    "Constructor adının class adıyla eşleşmesi gerektiğini ve return türünün (<code>void</code> veya <code>int</code> gibi) olamayacağını unutma. \n",
    "\n",
    "Ayrıca, constructorın obje oluşturulduğunda çağrıldığına dikkat et.\n",
    "\n",
    "Default olarak tüm classların constructorları vardır: Kendin bir constructor classı oluşturmazsan, C# senin için bir tane oluşturur. Ancak, fieldlar için başlangıç değeri ayarlayamazsın.\n",
    "\n",
    "**Constructorlar zamandan tasararuf sağlar!**\n",
    "\n",
    "## Constructor Parameters\n",
    "\n",
    "Constructorlar, fieldları başlatmak için kullanılan parametreleri de alabilir.\n",
    "\n",
    "Aşağıdaki örnek, constructora bir <code>string modelName</code> parametresi ekler. Constructorın içinde <code>model = modelName</code> olarak ayarladık. Constructorı çağırdığımızda, constructora <code>model</code>in değerini \"<code>Mustang</code>\" yapacak bir parametre iletiyoruz: \n",
    "\n",
    "<img src = \"https://i.hizliresim.com/3hzwita.png\">\n",
    "\n",
    "İstediğin kadar parametreye sahip olabilirsin: \n",
    "\n",
    "<img src = \"https://i.hizliresim.com/9bwpebv.png\">\n",
    "\n",
    "**İpucu**: Tıpkı diğer methodlar gibi, constructorlar da farklı sayıda parametre kullanılarak **overloaded** olabilir.\n",
    "\n",
    "## Constructors Save Time\n",
    "\n",
    "<img src = \"https://i.hizliresim.com/eff2s0n.png\">\n",
    "\n"
   ]
  }
 ],
 "metadata": {
  "kernelspec": {
   "display_name": "Python 3 (ipykernel)",
   "language": "python",
   "name": "python3"
  },
  "language_info": {
   "codemirror_mode": {
    "name": "ipython",
    "version": 3
   },
   "file_extension": ".py",
   "mimetype": "text/x-python",
   "name": "python",
   "nbconvert_exporter": "python",
   "pygments_lexer": "ipython3",
   "version": "3.11.1"
  }
 },
 "nbformat": 4,
 "nbformat_minor": 5
}
