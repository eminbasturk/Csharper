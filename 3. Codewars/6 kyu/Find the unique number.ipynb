{
 "cells": [
  {
   "cell_type": "markdown",
   "id": "386c8e05",
   "metadata": {},
   "source": [
    "Arraydeki farklı olan sayıyı bul.\n",
    "\n",
    "<img src = \"https://i.hizliresim.com/qt85n93.png\">\n",
    "\n",
    "<img src = \"https://i.hizliresim.com/5m8kca9.png\">"
   ]
  },
  {
   "cell_type": "code",
   "execution_count": null,
   "id": "ed7ac5c1",
   "metadata": {},
   "outputs": [],
   "source": []
  }
 ],
 "metadata": {
  "kernelspec": {
   "display_name": "Python 3 (ipykernel)",
   "language": "python",
   "name": "python3"
  },
  "language_info": {
   "codemirror_mode": {
    "name": "ipython",
    "version": 3
   },
   "file_extension": ".py",
   "mimetype": "text/x-python",
   "name": "python",
   "nbconvert_exporter": "python",
   "pygments_lexer": "ipython3",
   "version": "3.11.1"
  }
 },
 "nbformat": 4,
 "nbformat_minor": 5
}
