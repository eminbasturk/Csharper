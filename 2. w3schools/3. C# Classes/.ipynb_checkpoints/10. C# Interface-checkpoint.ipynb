{
 "cells": [
  {
   "cell_type": "markdown",
   "id": "32f3316b",
   "metadata": {},
   "source": [
    "# Interfaces\n",
    "\n",
    "C#'ta soyutlama elde etmenin başka bir yolu da interfacelerdir.\n",
    "\n",
    "<code>interface</code>, yalnızca abstract methodları ve özellikleri (boş gövdelerle) içerebilen tamamen \"**abstract bir class**\"dır.\n",
    "\n",
    "<img src = \"https://i.hizliresim.com/ivne6ah.png\">\n",
    "\n",
    "Bir interfacein başında \"I\" harfiyle başlaman iyi bir uygulama olarak kabul edilir, çünkü senin ve başkalarının bunun bir class değil, bir interface olduğunu hatırlamasını kolaylaştırır.\n",
    "\n",
    "Default olarak bir interfacein memberları <code>abstract</code> ve <code>public</code>dir.\n",
    "\n",
    "**Note**: Interfaceler propertyler ve methodlar içerebilir, ancak field içeremez.\n",
    "\n",
    "Interface methodlarına erişmek için, interfacein başka bir sınıf tarafından \"implemented\" (bir tür miras alma gibi) olması gerekir. Bir interface implement etmek için <code>:</code> sembolünü kullan (tıpkı inheritanceda olduğu gibi). Interface implement ederken <code>override</code> keywordünü kullanman gerekmediğini unutma: \n",
    "\n",
    "<img src = \"https://i.hizliresim.com/9mmn511.png\">\n",
    "\n",
    "### Interfacelerle İlgili Notlar\n",
    "\n",
    "* **Abstract classlar** gibi, interfaceler de obje oluşturmak için kullanılamaz (yukarıdaki örnekte, Program classında bir \"IAnimal\" objesi oluşturmak mümkün değildir)\n",
    "* Interface methodlarının bir gövdesi yoktur - gövde \"implement\" classı tarafından sağlanır\n",
    "* Bir interfacein implementesinde, tüm methodları override etmeniz gerekir\n",
    "* Interfaceler property ve method içerebilir, ancak değişken/field içeremez\n",
    "* Interface memberları default olarak <code>abstract</code> ve <code>public</code>dir\n",
    "* Nir interface bir constructor içeremez (obje oluşturmak için kullanılamadığı için)\n",
    "\n",
    "### Neden ve Ne Zaman Interface Kullanırsın?\n",
    "\n",
    "* Güvenliği sağlamak için - belirli ayrıntıları gizle ve bir objenin (interface) yalnızca önemli ayrıntılarını göster.\n",
    "* C# \"çoklu inheritance\"ı desteklemez (bir class yalnızca bir parent classdan miras alabilir). Ancak, class birden çok interface **implement** edilebildiğinden interfacelerle elde edilebilir. **Note**: Birden çok interface implement etmek için bunları virgülle ayır."
   ]
  },
  {
   "cell_type": "markdown",
   "id": "be40fdd7",
   "metadata": {},
   "source": [
    "## Multiple Interfaces\n",
    "\n",
    "Birden çok interface implement etmek için bunları virgülle ayır:\n",
    "\n",
    "<img src = \"https://i.hizliresim.com/8pbiww6.png\">"
   ]
  }
 ],
 "metadata": {
  "kernelspec": {
   "display_name": "Python 3 (ipykernel)",
   "language": "python",
   "name": "python3"
  },
  "language_info": {
   "codemirror_mode": {
    "name": "ipython",
    "version": 3
   },
   "file_extension": ".py",
   "mimetype": "text/x-python",
   "name": "python",
   "nbconvert_exporter": "python",
   "pygments_lexer": "ipython3",
   "version": "3.11.1"
  }
 },
 "nbformat": 4,
 "nbformat_minor": 5
}
