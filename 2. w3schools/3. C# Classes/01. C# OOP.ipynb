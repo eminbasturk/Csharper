{
 "cells": [
  {
   "cell_type": "markdown",
   "id": "03325395",
   "metadata": {},
   "source": [
    "# What is OOP?\n",
    "\n",
    "OOP, Nesne Yönelimli Programlama (Object Oriented Programming) anlamına gelir.\n",
    "\n",
    "Prosedürel programlama, veriler üzerinde işlemler gerçekleştiren prosedürler ve methodlar yazmakla ilgiliyken, nesne yönelimli programlama, hem verileri hem de methodları içeren nesneler oluşturmakla ilgilidir. \n",
    "\n",
    "Nesne yönelimli programlamanın prosedürel programlamaya göre birçok avantajı vardır: \n",
    "* OOP daha hızlı ve yürütmesi daha kolay\n",
    "* OOP, programlar için net bir yapı sağlar\n",
    "* OOP, C# kodunu DRY \"Don't Repeat Yourself\" tutmaya yardımcı olur ve kodun bakımını, değiştirilmesini ve hata ayıklamasını kolaylaştırır\n",
    "* OOP, daha az kod ve daha kısa geliştirme süresi ile tamamen yeniden kullanılabilir uygulamalar oluşturmayı mümkün kılar\n",
    "\n",
    "**İpucu**: \"Don't Repeat Yourself\" (DRY) ilkesi, kod tekrarını azaltmakla ilgilidir. Uygulama için ortak olan kodları çıkarıp tek bir yere koymalı ve tekrarlamak yerine yeniden kullanmalısın.\n",
    "\n",
    "# What are Classes and Objects?\n",
    "\n",
    "Classlar ve objeler, nesne yönelimli programlamanın iki ana yönüdür.\n",
    "\n",
    "Class ve obje arasındaki farkı görmek için aşağıdaki resme bak:\n",
    "\n",
    "<img src = \"https://i.hizliresim.com/6wxdh7o.png\">\n",
    "\n",
    "Diğer bir örnek:\n",
    "\n",
    "<img src = \"https://i.hizliresim.com/7jg6hsa.png\">\n",
    "\n",
    "Dolayısıyla, bir class, objeler için bir şablondur ve bir obje, bir classın örneğidir. (instance)\n",
    "\n",
    "Bireysel objeler oluşturulduğunda, class'dan tüm değişkenleri ve methodları devralırlar.\n"
   ]
  }
 ],
 "metadata": {
  "kernelspec": {
   "display_name": "Python 3 (ipykernel)",
   "language": "python",
   "name": "python3"
  },
  "language_info": {
   "codemirror_mode": {
    "name": "ipython",
    "version": 3
   },
   "file_extension": ".py",
   "mimetype": "text/x-python",
   "name": "python",
   "nbconvert_exporter": "python",
   "pygments_lexer": "ipython3",
   "version": "3.11.1"
  }
 },
 "nbformat": 4,
 "nbformat_minor": 5
}
