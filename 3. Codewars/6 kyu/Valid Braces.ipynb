{
 "cells": [
  {
   "cell_type": "markdown",
   "id": "80a2a7db",
   "metadata": {},
   "source": [
    "Bir dizi parantez alan ve parantezlerin sırasının geçerli olup olmadığını belirleyen bir fonksiyon yaz. Geçerliyse true, değilse false döndür.\n",
    "\n",
    "Tüm parantezler doğru parantezle eşleştirilirse, bir parantez dizisi geçerli kabul edilir."
   ]
  },
  {
   "cell_type": "code",
   "execution_count": null,
   "id": "4720ed3e",
   "metadata": {},
   "outputs": [],
   "source": []
  },
  {
   "cell_type": "code",
   "execution_count": null,
   "id": "85e22125",
   "metadata": {},
   "outputs": [],
   "source": []
  }
 ],
 "metadata": {
  "kernelspec": {
   "display_name": "Python 3 (ipykernel)",
   "language": "python",
   "name": "python3"
  },
  "language_info": {
   "codemirror_mode": {
    "name": "ipython",
    "version": 3
   },
   "file_extension": ".py",
   "mimetype": "text/x-python",
   "name": "python",
   "nbconvert_exporter": "python",
   "pygments_lexer": "ipython3",
   "version": "3.11.1"
  }
 },
 "nbformat": 4,
 "nbformat_minor": 5
}
