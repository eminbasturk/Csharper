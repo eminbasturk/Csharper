{
 "cells": [
  {
   "cell_type": "markdown",
   "id": "22fa5b73",
   "metadata": {},
   "source": [
    "# Properties (Get and Set)\n",
    "\n",
    "## Properties and Encapsulation\n",
    "\n",
    "Propertyleri açıklamaya başlamadan önce, \"**Encapsulation**\" hakkında temel bir anlayışa sahip olmalısın.\n",
    "\n",
    "**Encapsulation**ın anlamı, \"hassas\" verilerin kullanıcılardan gizlendiğinden emin olmaktır. Bunu başarmak için şunları yapmalısın: \n",
    "\n",
    "* fieldları/değişkenleri <code>private</code> olarak tanımla\n",
    "* <code>private</code> bir fieldın değerine erişmek ve bunları güncellemek için **properties** aracılığıyla <code>public</code> olarak <code>get</code> ve <code>set</code> methodları tanımla\n",
    "\n",
    "## Properties\n",
    "\n",
    "Önceki bölümde <code>private</code> değişkenlere yalnızca aynı sınıf içinde erişilebileceğini öğrendin (dışarıdan bir sınıfın bu değişkene erişimi yoktur). Ancak bazen bunlara erişmemiz gerekir - ve bu properties ile yapılabilir.\n",
    "\n",
    "Property, değişken ve methodun birleşimi gibidir ve iki methodu vardır: <code>get</code> ve <code>set</code> methodları: \n",
    "\n",
    "<img src = \"https://i.hizliresim.com/9cgvs74.png\">\n",
    "\n",
    "<code>Name</code> propertysi, <code>name</code> fieldıyla ilişkilendirilir. Hem property hem de private field için aynı adı, ancak ilk harfi büyük olacak şekilde kullanmak iyi bir uygulamadır.\n",
    "\n",
    "<code>get</code> methodu, <code>name</code> değişkeninin değerini döndürür.\n",
    "\n",
    "<code>set</code> methodu, <code>name</code> değişkenine bir değer atar. <code>value</code> keywordü propertye atadığımız değeri temsil eder.\n",
    "\n",
    "Artık <code>Name</code> propertysini, <code>Person</code> classının <code>private</code> fieldına erişmek ve güncellemek için kullanabilirsin: \n",
    "\n",
    "<img src = \"https://i.hizliresim.com/6cg9civ.png\">\n",
    "\n",
    "## Automatic Properties (Short Hand)\n",
    "\n",
    "C# ayrıca, property için field tanımlamanız gerekmeyen ve yalnınzca <code>get;</code> ve <code>set;</code> yazmanız gereken kısa/otomatik propertyleri kullanmanın bir yolunu sağlar.\n",
    "\n",
    "Aşağıdaki örnek, yukarıdaki örnekle aynı sonucu üretecektir. Tek fark, daha az kod olmasıdır:\n",
    "\n",
    "<img src = \"https://i.hizliresim.com/bjnak4b.png\">\n",
    "\n",
    "## Why Encapsulation?\n",
    "\n",
    "* Class memberları üzerinde daha iyi kontrol (kendinin (veya başkalarının) kodu bozma olasılığını azaltırsın)\n",
    "* Alanlar **read-only** (yalnızca <code>get</code> methodunu kullanıyorsan) veya **write-only** (yalnızca <code>set</code> methodunu kullanıyorsan) yapılabilir.\n",
    "* Esneklik: programcı, diğer bölümleri etkilemeden kodun bir bölümünü değiştirebilir.\n",
    "* Veri güvenliği artar."
   ]
  }
 ],
 "metadata": {
  "kernelspec": {
   "display_name": "Python 3 (ipykernel)",
   "language": "python",
   "name": "python3"
  },
  "language_info": {
   "codemirror_mode": {
    "name": "ipython",
    "version": 3
   },
   "file_extension": ".py",
   "mimetype": "text/x-python",
   "name": "python",
   "nbconvert_exporter": "python",
   "pygments_lexer": "ipython3",
   "version": "3.11.1"
  }
 },
 "nbformat": 4,
 "nbformat_minor": 5
}
