{
 "cells": [
  {
   "cell_type": "markdown",
   "id": "38109494",
   "metadata": {},
   "source": [
    "# 1. Dizi Nedir - Teorik Bilgiler\n",
    "\n",
    "* Birbiriyle ilişkili olan veriler kümesidir.\n",
    "    * Mesela renkler dizisi olsun. Elemanları; mavi, sarı, kırmızı, beyaz... diye gidebilir.\n",
    "    * Çift sayılar dizisi olabilir. 2, 4, 6... gibi.\n",
    "* **index**, dizilerdeki her bir elemanın sırasını belirtir.\n",
    "    * İlk elemanın indexi 0'dır.\n",
    "* Ram (geçici bellek)de tutulur.\n",
    "* Köşeli parantez ile tanımlanır.\n",
    "\n",
    "---"
   ]
  },
  {
   "cell_type": "markdown",
   "id": "8eebe076",
   "metadata": {},
   "source": [
    "# 2. Dizi Tanımlama ve Eleman Yazdırma\n",
    "\n",
    "* <code>degisken_turu[] degisken_adi = {eleman_1, eleman_2, eleman_3}</code> şeklinde tanımlanır.\n",
    "\n",
    "## Örnek\n",
    "<img src = \"https://i.hizliresim.com/ju1ryfw.png\">\n",
    "\n",
    "* Dizinin boyutundan daha büyük bir index çağırmaya çalışırsan hata verir.\n",
    "\n",
    "---"
   ]
  },
  {
   "cell_type": "markdown",
   "id": "93dfbbd5",
   "metadata": {},
   "source": [
    "# 3. Dizi Elemanları Listeleme\n",
    "\n",
    "* Bir dizinin uzunluğuna yani eleman sayısına **.Length** özelliğinden erişebilirsin.\n",
    "\n",
    "<img src = \"https://i.hizliresim.com/1ws0y0f.png\">+\n",
    "\n",
    "\n",
    "### Timer ve Diziler\n",
    "\n",
    "<img src = \"https://i.hizliresim.com/588rylw.png\">\n",
    "\n",
    "---"
   ]
  },
  {
   "cell_type": "markdown",
   "id": "6db2f637",
   "metadata": {},
   "source": [
    "# 4. Foreach Döngüsü\n",
    "\n",
    "* Bir dizi içerisindeki tüm elemanları gezen döngüdür.\n",
    "* Dört adet parametresi vardır.\n",
    "    * Birinci parametre, değişken türü.\n",
    "    * İkinci değişken, değişken adı.\n",
    "    * Üçüncü değişken, in (içinden).\n",
    "    * Dördüncü değişken, dizi adı.\n",
    "    \n",
    "<img src = \"https://i.hizliresim.com/85k0lwn.png\">\n",
    "\n",
    "---"
   ]
  }
 ],
 "metadata": {
  "kernelspec": {
   "display_name": "Python 3 (ipykernel)",
   "language": "python",
   "name": "python3"
  },
  "language_info": {
   "codemirror_mode": {
    "name": "ipython",
    "version": 3
   },
   "file_extension": ".py",
   "mimetype": "text/x-python",
   "name": "python",
   "nbconvert_exporter": "python",
   "pygments_lexer": "ipython3",
   "version": "3.11.1"
  }
 },
 "nbformat": 4,
 "nbformat_minor": 5
}
