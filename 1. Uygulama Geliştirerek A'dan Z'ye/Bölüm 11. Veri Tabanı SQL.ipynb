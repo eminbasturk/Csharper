{
 "cells": [
  {
   "cell_type": "markdown",
   "id": "afe922bc",
   "metadata": {},
   "source": [
    "# 1. SQL İndirme ve Kurulum\n",
    "\n",
    "İnternete SQL Server yaz indir xd\n",
    "\n"
   ]
  },
  {
   "cell_type": "markdown",
   "id": "19670057",
   "metadata": {},
   "source": [
    "# 2. Veri Tabanı Oluşturma\n",
    "\n",
    "* Server (sunucu), verilerinin tutulduğu depolama bölümüdür.\n",
    "* **Databases** üzerine sağ tıklayıp yeni veri tabanı oluşturabilirsin."
   ]
  },
  {
   "cell_type": "markdown",
   "id": "096e807b",
   "metadata": {},
   "source": [
    "# 3. SQL Veri Tipleri / 1\n",
    "\n",
    "* Personel tablosunda bulunacak alanlar;\n",
    "    * Personelid\n",
    "    * Ad\n",
    "    * Soyad\n",
    "    * Şehir\n",
    "    * Maaş\n",
    "    * Durum\n",
    "    * Meslek\n",
    "    \n",
    "### Veri Tipleri\n",
    "\n",
    "* **bigint**, büyük tam sayı tutar.\n",
    "* **binary**, sayıları ikilik tabanda tutar.\n",
    "* ***bit**, 0 veya 1 değerlerini tutar. (true/false)\n",
    "* ***char**, sabit uzunluklu veriler için tutulur. (telefon, plaka, tc)\n",
    "    * Parantez içine girilen değer kadar karakter yeri açar.\n",
    "* **date**, tarih tutar.\n",
    "* **datetime**, tarih ve zaman tutar.\n",
    "* **datetime2**, tarih ve zaman tutar, daha hassas.\n",
    "* ***decimal**, ondalıklı veri tutar.\n",
    "* ***float**, ondalıklı veri tutar, daha esnek.\n",
    "* **image**, resim dosyaları tutar ancak pek kullanılmaz.\n",
    "* ***int**, tam sayı tutar.\n",
    "* **money**, para birimleri için kullanılır."
   ]
  },
  {
   "cell_type": "markdown",
   "id": "2e6861f1",
   "metadata": {},
   "source": [
    "# 4. SQL Veri Tipleri / 2\n",
    "\n",
    "* **nchar**, char'a ek olarak latin alfabesi dışındaki alfabelerdeki karakterleri de tutar.\n",
    "* **numeric**, decimal ile aynı mantıkta çalışır.\n",
    "* **real**, gerçel sayı tutar.\n",
    "* ***smalldatetime**, tarih ve zaman tutar ancak kısıtlı tarihleri.\n",
    "* ***smallint**, küçük tam sayı tutar.\n",
    "* **sql_variant**, veri türü bilinmeyen veriler için kullanılır.\n",
    "* **text**, çok üzün metin değerlerini tutar.\n",
    "* **time**, sadece zaman tutar.\n",
    "* ***tinyint**, 0-256 arasındaki tam sayıları tutar.\n",
    "* **uniqueidentifier**, rastgele benzersiz id tutar.\n",
    "* ***varchar**, değişken uzunluklu karakterleri tutar. (Arta kalan karakterleri belleğe iade eder.)\n"
   ]
  },
  {
   "cell_type": "markdown",
   "id": "f9734081",
   "metadata": {},
   "source": [
    "# 5. Personel Tablosu Oluşturma\n",
    "\n",
    "* Verileri türlerine göre optimize ederek tabloyu oluştur\n",
    "\n",
    "<img src = \"https://i.hizliresim.com/4nky9zk.png\">\n"
   ]
  },
  {
   "cell_type": "markdown",
   "id": "94a22e1e",
   "metadata": {},
   "source": [
    "# 6. DML Komutlarına Giriş - Tabloya Veri Ekleme\n",
    "\n",
    "### El ile veri girebilirsin\n",
    "\n",
    "<img src = \"https://i.hizliresim.com/lmc07ik.png\">\n",
    "\n",
    "### DML Komutları\n",
    "\n",
    "* **D**ata **M**anuplation **L**anguage komutları veriyi manipüle eder.\n",
    "    * Select: Seç, listele, (* tüm verileri seçer) (FROM'den dan) \n",
    "    * Insert: Ekle\n",
    "    * Delete: Sil\n",
    "    * Update: Güncelle\n",
    "* Query: Sorgu anlamına gelir.\n",
    "\n",
    "### Tablodaki verileri seçme\n",
    "\n",
    "<img src = \"https://i.hizliresim.com/fo859km.png\">"
   ]
  },
  {
   "cell_type": "markdown",
   "id": "17f60c2f",
   "metadata": {},
   "source": [
    "# 7. Where ile Sorgulamalar\n",
    "\n",
    "* C#'daki if gibi şartlı ifadeler kurmak ve filtrelemek için kullanılır.\n",
    "* AND, OR, <= gibi operatörler kullanılır.\n",
    "* Metinsel ifadeler '' içerisine yazılır.\n",
    "\n",
    "#### Mesleği doktor olan personellerin ad, soyad ve meslek bilgisi\n",
    "\n",
    "<img src = \"https://i.hizliresim.com/icn7nyp.png\">\n",
    "\n",
    "#### Ankaradaki bekar personeller\n",
    "\n",
    "<img src = \"https://i.hizliresim.com/6pcb09v.png\">\n",
    "\n"
   ]
  },
  {
   "cell_type": "markdown",
   "id": "3c0c814d",
   "metadata": {},
   "source": [
    "# 8. Personel Kayıt Projesi Tasarım Ekranı\n",
    "\n",
    "<img src = \"https://i.hizliresim.com/am7fdc9.png\">"
   ]
  }
 ],
 "metadata": {
  "kernelspec": {
   "display_name": "Python 3 (ipykernel)",
   "language": "python",
   "name": "python3"
  },
  "language_info": {
   "codemirror_mode": {
    "name": "ipython",
    "version": 3
   },
   "file_extension": ".py",
   "mimetype": "text/x-python",
   "name": "python",
   "nbconvert_exporter": "python",
   "pygments_lexer": "ipython3",
   "version": "3.11.1"
  }
 },
 "nbformat": 4,
 "nbformat_minor": 5
}
