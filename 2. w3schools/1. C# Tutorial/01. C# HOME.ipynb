{
 "cells": [
  {
   "cell_type": "markdown",
   "id": "671b315f",
   "metadata": {},
   "source": [
    "# C# Tutorial\n",
    "*C# Öğretici*"
   ]
  },
  {
   "cell_type": "markdown",
   "id": "c8d9dda0",
   "metadata": {},
   "source": [
    "## Learn C#\n",
    "*C# Öğren*\n",
    "\n",
    "* C# (C-Sharp), Microsoft tarafından geliştirilen ve .NET Framework üzerinde çalışan bir programlama dilidir.\n",
    "    * **Framework**, yazılım geliştirme sürecini kolaylaştırmak, tekrar kullanılabilir ve standart bir yapı oluşturmak için kullanılan bir araç ve ortam olarak tanımlanabilir. \n",
    "    * **.NET Framework**, Microsoft tarafından geliştirilen bir yazılım platformudur. Windows işletim sistemlerinde uygulama geliştirmek için kullanılan bir ortamdır. Bu platform, birden çok programlama dilini destekler, en yaygın olarak C#, Visual Basic.NET, ve F# gibi diller kullanılarak uygulamalar geliştirilebilir.\n",
    "\n",
    "* C# web uygulamaları, masaüstü uygulamaları, mobil uygulamalar, oyunlar ve çok daha fazlasını geliştirmek için kullanılır."
   ]
  }
 ],
 "metadata": {
  "kernelspec": {
   "display_name": "Python 3 (ipykernel)",
   "language": "python",
   "name": "python3"
  },
  "language_info": {
   "codemirror_mode": {
    "name": "ipython",
    "version": 3
   },
   "file_extension": ".py",
   "mimetype": "text/x-python",
   "name": "python",
   "nbconvert_exporter": "python",
   "pygments_lexer": "ipython3",
   "version": "3.11.1"
  }
 },
 "nbformat": 4,
 "nbformat_minor": 5
}
