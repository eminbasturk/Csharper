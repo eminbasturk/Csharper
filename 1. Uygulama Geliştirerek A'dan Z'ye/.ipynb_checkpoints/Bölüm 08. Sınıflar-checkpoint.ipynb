{
 "cells": [
  {
   "cell_type": "markdown",
   "id": "46f1014d",
   "metadata": {},
   "source": [
    "# 1. Sınıf Nedir - Teorik Bilgi\n",
    "\n",
    "* Kod tekrarını ve kod yükünü önler.\n",
    "* Bir takım gizlilikler sağlar.\n",
    "\n",
    "### Örnek-1\n",
    "Apartman -> Bir sınıf olsun.\n",
    "Daire -> Nesne\n",
    "* Sınıf işin taslağını oluşturur.\n",
    "* Nesne sınıfı özelliklerine ulaşmak için kullanılacak köprü.\n",
    "\n",
    "**Özellikler**\n",
    "* Kat\n",
    "* Fiyat\n",
    "* Oda tipi\n",
    "\n",
    "* Özellikler ayırt edici olmalıdır. (Fiyatlar değişkenlik gösterir gibi.)\n",
    "\n",
    "### Örnek-2\n",
    "Araba -> Sınıf\n",
    "\n",
    "**Özellikler**\n",
    "* Hız\n",
    "* Fiyat\n",
    "* Durum\n",
    "* Renk\n",
    "* Marka"
   ]
  },
  {
   "cell_type": "markdown",
   "id": "15ccb4b5",
   "metadata": {},
   "source": [
    "# 2. Sınıf Oluşturma ve Nesne Kavramı\n",
    "\n",
    "* Öncelikle bir class açıp değişkenlerini şu şekilde tanımla.\n",
    "\n",
    "<img src = \"https://i.hizliresim.com/1lvpn5d.png\">\n",
    "\n",
    "* Ardından iki farklı formda bu classdan nesneler üreterek işlemler yapabilirsin.\n",
    "\n",
    "<img src = \"https://i.hizliresim.com/no6y9n3.png\">\n",
    "\n",
    "<img src = \"https://i.hizliresim.com/1z696sk.png\">"
   ]
  },
  {
   "cell_type": "markdown",
   "id": "862d2d36",
   "metadata": {},
   "source": [
    "# 3. Kapsülleme\n",
    "\n",
    "* Bilinçsiz kullanımı önler.\n",
    "* private tanımlanan alanları public hale getirip, bizim kullanmak istediğimiz şekilde kullanmamıza izin verir.\n",
    "\n",
    "<img src = \"https://i.hizliresim.com/i2rztx4.png\">\n",
    "\n",
    "<img src = \"https://i.hizliresim.com/9dfaz14.png\">"
   ]
  },
  {
   "cell_type": "markdown",
   "id": "4205fbb8",
   "metadata": {},
   "source": [
    "# 4. Kalıtım\n",
    "\n",
    "* Bir sınıftaki niteliklerin bir başka sınıfa taşınması.\n",
    "* Bütün değişkenleri bir arada kullanmak istemeyebilirsin, bunun için ikiye böl ve iki farklı sınıf kullan.\n",
    "\n",
    "<img src = \"https://i.hizliresim.com/m9c4axe.png\">\n",
    "\n",
    "<img src = \"https://i.hizliresim.com/l85i9yt.png\">\n",
    "\n",
    "<img src = \"https://i.hizliresim.com/1jtljk9.png\">"
   ]
  },
  {
   "cell_type": "markdown",
   "id": "dd5d910a",
   "metadata": {},
   "source": [
    "# 5. Console Ekranı\n",
    "\n",
    "* Console ekranı siyah ekrandır.\n",
    "* Program çıktılarının göründüğü ekrandır.\n",
    "* <code>Console.Write()</code> ekranda çıktı göstermek için kullanılır.\n",
    "* <code>Console.WriteLine()</code> da ekranda çıktı göstermek için kullanılır. Ancak yazdıktan sonra yeni satıra geçer.\n",
    "\n",
    "<img src = \"https://i.hizliresim.com/rhqfl7f.png\">\n",
    "\n",
    "* Tanımladığın değişkenleri de yazdırabilirsin.\n",
    "\n",
    "<img src = \"https://i.hizliresim.com/tipu8gu.png\">\n",
    "\n"
   ]
  },
  {
   "cell_type": "markdown",
   "id": "756c93b9",
   "metadata": {},
   "source": [
    "# 6. Sınıf İçinde Geriye Değer Döndürmeyen Metotlar / 1\n",
    "\n",
    "<img src = \"https://i.hizliresim.com/8ut7q9i.png\">\n",
    "\n",
    "<img src = \"https://i.hizliresim.com/8gknmkk.png\">\n",
    "\n",
    "* metin metotu public olarak tanımlandığı için çağırılabilir. Sadece void olarak bırakılsaydı çağıralamazdı."
   ]
  },
  {
   "cell_type": "markdown",
   "id": "3e8b9ce6",
   "metadata": {},
   "source": [
    "# 7. Sınıf İçinde Geriye Değer Döndürmeyen Metotlar / 2\n",
    "\n",
    "### Sınıf içerisindeki metotta döngü kullanımı\n",
    "\n",
    "<img src = \"https://i.hizliresim.com/7j3swhc.png\">\n",
    "\n",
    "<img src = \"https://i.hizliresim.com/sj7p1pb.png\">\n",
    "\n",
    "### Klavyeden girilen değerleri sınıf metoduna yollama\n",
    "\n",
    "* Console.ReadLine() metodu ile kullanıcıdan veri girişi alabilirsin.\n",
    "\n",
    "<img src = \"https://i.hizliresim.com/ju5x1gl.png\">\n",
    "\n",
    "<img src = \"https://i.hizliresim.com/7kewkgr.png\">"
   ]
  },
  {
   "cell_type": "markdown",
   "id": "b65e6b3a",
   "metadata": {},
   "source": [
    "# 8. Sınıf İçinde Geriye Değer Döndüren Metotlar\n",
    "\n",
    "<img src = \"https://i.hizliresim.com/5jnt8b1.png\">\n",
    "\n",
    "<img src = \"https://i.hizliresim.com/6x7pbnr.png\">"
   ]
  },
  {
   "cell_type": "markdown",
   "id": "84250c89",
   "metadata": {},
   "source": [
    "# 9. Constructor (Yapıcı) Metotlar / 1\n",
    "\n",
    "* Sınıftaki özelliklere ilk değer atamak için kullanılır.\n",
    "* Sınıftan bir nesne oluşturulduğu an çalıştırılmak istenen durumlarda kullanılır.\n",
    "* Sınıf adıyla constructor metodun adı aynı olmak zorundadır.\n",
    "\n",
    "### Nesne oluşturulduğu an çalışması\n",
    "\n",
    "<img src = \"https://i.hizliresim.com/je370z3.png\">\n",
    "\n",
    "<img src = \"https://i.hizliresim.com/gz04ics.png\">\n",
    "\n",
    "### Parametre alması\n",
    "\n",
    "<img src = \"https://i.hizliresim.com/s6fyvfk.png\">\n",
    "\n",
    "<img src = \"https://i.hizliresim.com/bsjrdiy.png\">\n",
    "\n",
    "### Argüman olarak değişken verilmesi\n",
    "\n",
    "<img src = \"https://i.hizliresim.com/140d8lg.png\">\n",
    "\n",
    "****Nesne üretirken kullandığın o () metotun argüman girilmesi gereken yeri haline geliyor!!**"
   ]
  },
  {
   "cell_type": "markdown",
   "id": "451cf103",
   "metadata": {},
   "source": [
    "# 10. Constructor (Yapıcı) Metotlar / 2\n",
    "\n",
    "<img src = \"https://i.hizliresim.com/pkopdp8.png\">\n",
    "\n",
    "<img src = \"https://i.hizliresim.com/lw1wlmc.png\">"
   ]
  }
 ],
 "metadata": {
  "kernelspec": {
   "display_name": "Python 3 (ipykernel)",
   "language": "python",
   "name": "python3"
  },
  "language_info": {
   "codemirror_mode": {
    "name": "ipython",
    "version": 3
   },
   "file_extension": ".py",
   "mimetype": "text/x-python",
   "name": "python",
   "nbconvert_exporter": "python",
   "pygments_lexer": "ipython3",
   "version": "3.11.1"
  }
 },
 "nbformat": 4,
 "nbformat_minor": 5
}
