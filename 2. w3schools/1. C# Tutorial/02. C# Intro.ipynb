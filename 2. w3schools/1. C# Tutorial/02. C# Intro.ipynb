{
 "cells": [
  {
   "cell_type": "markdown",
   "id": "8a1a249b",
   "metadata": {},
   "source": [
    "# C# Introduction\n",
    "*C# Giriş*"
   ]
  },
  {
   "cell_type": "markdown",
   "id": "8a570c82",
   "metadata": {},
   "source": [
    "## What is C#?\n",
    "*C# Nedir?*\n",
    "\n",
    "* C#, \"C-Sharp\" olarak telaffuz edilir.\n",
    "* Microsoft tarafından oluşturulan ve .NET Framework üzerinde çalışan nesne yönelimli bir programlama dilidir.\n",
    "    * Nesne yönelimli programlama (OOP), programlamayı gerçek dünya nesnelerinin modellenmesine dayanan bir yaklaşımdır.\n",
    "    * Her nesne, bir sınıfın örneğidir ve bu sınıf, nesnenin özelliklerini ve davranışlarını tanımlar.\n",
    "    * OOP'nin faydaları arasında kodun yeniden kullanılabilirliği, sürdürülebilirliği, büyük projelerin yönetilebilirliği ve yazılım geliştirme sürecinin daha etkili olması bulunur.\n",
    "* C#, C ailesinden köklere sahiptir ve dil, C++ ve Java gibi diğer popüler dillere yakındır.\n",
    "* İlk sürümü 2002 yılında yayınlanırken en son sürüm olan **C# 11**, Kasım 2022'de yayınlanmıştır.\n",
    "* C# şunlar için kullanılır:\n",
    "    * Mobil uygulamalar\n",
    "    * Masaüstü uygulamaları\n",
    "    * Web uygulamaları\n",
    "    * Web servisleri\n",
    "    * Web siteleri\n",
    "    * Oyunlar\n",
    "    * VR (Sanal Gerçeklik)\n",
    "    * Veritabanı uygulamaları\n",
    "    * Ve çok daha fazlası!"
   ]
  },
  {
   "cell_type": "markdown",
   "id": "b4c665ee",
   "metadata": {},
   "source": [
    "## Why Use C#?\n",
    "*Neden C# Kullanmalısın?*\n",
    "\n",
    "* Dünyanın en popüler programlama dillerinden biridir.\n",
    "* Öğrenmesi kolay ve kullanımı basittir.\n",
    "* Büyük bir topluluk desteği vardır.\n",
    "* C#, programlara net bir yapı kazandıran ve kodun yeniden kullanılmasına izin vererek geliştirme maliyetlerini düşüren nesne yönelimli bir dildir.\n",
    "* C#, C, C++ veya Java'ya yakın olduğu için programcıların C#'a veya tam tersine geçmesini kolaylaştırır."
   ]
  }
 ],
 "metadata": {
  "kernelspec": {
   "display_name": "Python 3 (ipykernel)",
   "language": "python",
   "name": "python3"
  },
  "language_info": {
   "codemirror_mode": {
    "name": "ipython",
    "version": 3
   },
   "file_extension": ".py",
   "mimetype": "text/x-python",
   "name": "python",
   "nbconvert_exporter": "python",
   "pygments_lexer": "ipython3",
   "version": "3.11.1"
  }
 },
 "nbformat": 4,
 "nbformat_minor": 5
}
