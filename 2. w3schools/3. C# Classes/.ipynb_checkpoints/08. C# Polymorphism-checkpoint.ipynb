{
 "cells": [
  {
   "cell_type": "markdown",
   "id": "fd3caafb",
   "metadata": {},
   "source": [
    "# Polymorphism and Overriding Methods\n",
    "\n",
    "Polymorphism \"birçok form\" anlamına gelir ve inheritance yoluyla birbiriyle ilişkili birçok sınıfımız olduğunda ortaya çıkar.\n",
    "\n",
    "**Inheritance**, başka bir sınıftan fieldları ve methodları devralmamıza izin verir. **Polymorphism**, farklı görevleri gerçekleştirmek için bu methodları kullanır. Bu, **tek bir eylemi farklı şekillerde gerçekleştirme**mizi sağlar.\n",
    "\n",
    "Örneğin, <code>animalSound()</code> adlı bir methodu olan <code>Animal</code> adlı bir parent class düşün. Animal classının child classları Pigs, Cats, Dogs, Birds olabilir - ve ayrıca kendi hayvan sesi uygulamalarına sahiptirler (kedilerin miyavlamaları, köpeklerin havlamaları vs.): \n",
    "\n",
    "<img src = \"https://i.hizliresim.com/9bfo635.png\">\n",
    "\n",
    "Artık <code>Pig</code> ve <code>Dog</code> objeleri oluşturabilir ve her ikisinde de <code>animalSound()</code> methodunu çağırabiliriz: \n",
    "\n",
    "<img src = \"https://i.hizliresim.com/2iu5x78.png\">\n",
    "\n",
    "### Aradığımız Çıktı Bu Değil\n",
    "\n",
    "Yukarıdaki örneğin çıktısı muhtemelen beklediğin gibi değildi. Bunun nedeni, parent class methodunun, aynı adı paylaştıklarında child class methodunu geçersiz kılmasıdır.\n",
    "\n",
    "Bununla birlikte, C#, parent class içindeki methoda <code>virtual</code> keywordünü ekleyerek ve her parent class methodu için <code>override</code> keywordünü kullanarak parent class methodunu geçersiz kılma seçeneği sunar: \n",
    "\n",
    "<img src = \"https://i.hizliresim.com/qh6qqtp.png\">\n",
    "\n",
    "### \"Inheritance\" ve \"Polymorphism\" Neden ve Ne Zaman Kullanılmalı?\n",
    "\n",
    "Kodun yeniden kullanılabilirliği için kullanışlıdır: yeni bir class oluşturduğunda mevcut bir classın field ve methodlarını kullanmak istiyorsan bu tür durumlarda kullanırsın.\n"
   ]
  }
 ],
 "metadata": {
  "kernelspec": {
   "display_name": "Python 3 (ipykernel)",
   "language": "python",
   "name": "python3"
  },
  "language_info": {
   "codemirror_mode": {
    "name": "ipython",
    "version": 3
   },
   "file_extension": ".py",
   "mimetype": "text/x-python",
   "name": "python",
   "nbconvert_exporter": "python",
   "pygments_lexer": "ipython3",
   "version": "3.11.1"
  }
 },
 "nbformat": 4,
 "nbformat_minor": 5
}
