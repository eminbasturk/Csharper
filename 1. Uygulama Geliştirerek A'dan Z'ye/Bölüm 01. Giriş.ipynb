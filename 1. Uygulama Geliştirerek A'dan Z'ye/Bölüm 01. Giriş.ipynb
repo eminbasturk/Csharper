{
 "cells": [
  {
   "cell_type": "markdown",
   "id": "7a8a6637",
   "metadata": {},
   "source": [
    "# 1. 2022 Güncellemesi\n",
    "\n",
    "* Kursun amacı temelden orta seviyeye çıkarmak.\n",
    "* Güncel bir visual studio sürümü kullan.\n",
    "* Yeni bir proje oluşturduğun zaman **.net framework** seç.\n",
    "    * timer-chart-web browserda da bunları yap.\n",
    "    \n",
    "----"
   ]
  },
  {
   "cell_type": "markdown",
   "id": "b90a55e7",
   "metadata": {},
   "source": [
    "# 2. Visual Studio İndirme ve Kurulum\n",
    "\n",
    "* Google'dan son sürümünü indir.\n",
    "* İngilizce olarak kullan.\n",
    "\n",
    "----"
   ]
  },
  {
   "cell_type": "markdown",
   "id": "7aa7ed3a",
   "metadata": {},
   "source": [
    "# 3. Visual Studio'ya Genel Bakış\n",
    "\n",
    "* Visual Studio, programlama dili derleyicisidir."
   ]
  }
 ],
 "metadata": {
  "kernelspec": {
   "display_name": "Python 3 (ipykernel)",
   "language": "python",
   "name": "python3"
  },
  "language_info": {
   "codemirror_mode": {
    "name": "ipython",
    "version": 3
   },
   "file_extension": ".py",
   "mimetype": "text/x-python",
   "name": "python",
   "nbconvert_exporter": "python",
   "pygments_lexer": "ipython3",
   "version": "3.11.1"
  }
 },
 "nbformat": 4,
 "nbformat_minor": 5
}
