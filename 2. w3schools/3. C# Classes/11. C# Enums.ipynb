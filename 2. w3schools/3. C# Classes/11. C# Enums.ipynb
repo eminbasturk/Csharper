{
 "cells": [
  {
   "cell_type": "markdown",
   "id": "abb3820a",
   "metadata": {},
   "source": [
    "# Enums\n",
    "\n",
    "<code>enum</code> bir grup **constants** (değiştirilemez/salt okunur değişkenler) temsil eden özel bir \"classtır\".\n",
    "\n",
    "Bir <code>enum</code> oluşturmak için <code>enum</code> keywordünü kullan (class veya interface yerine) ve enum öğelerini virgülle ayır: \n",
    "\n",
    "<img src = \"https://i.hizliresim.com/et2r1yr.png\">\n",
    "\n",
    "<code>enum</code> itemlarına **nokta** syntaxı ile erişebilirsin: \n",
    "\n",
    "<img src = \"https://i.hizliresim.com/89bd2g0.png\">\n",
    "\n",
    "Enum, \"özel olarak listelenmiş\" anlamına gelen \"enumerations\" (numaralandırmalar)'ın kısaltmasıdır.\n",
    "\n",
    "## Enum inside a Class\n",
    "\n",
    "Ayrıca bir classın içinde bir <code>enum</code>'a sahip olabilirsin: \n",
    "\n",
    "<img src = \"https://i.hizliresim.com/2tx2lcs.png\">\n",
    "\n",
    "## Enum Values\n",
    "\n",
    "Varsayılan olarak, bir enumın ilk itemının değeri 0'dır. İkincisinin değeri 1'dir ve böyle devam eder.\n",
    "\n",
    "Bir itemdan integer değerini almak için, itemı açıkça bir <code>int</code>'e dönüştürmelisin: \n",
    "\n",
    "<img src = \"https://i.hizliresim.com/56r5yae.png\">\n",
    "\n",
    "Kendi enum değerlerini de atayabilirsin ve sonraki itemlar numaralarını buna göre güncelleyecektir: \n",
    "\n",
    "<img src = \"https://i.hizliresim.com/iv3ldyo.png\">\n",
    "\n",
    "## Enum in a Switch Statement\n",
    "\n",
    "Enumlar, karşılık gelen değerleri kontrol etmek için genellikle <code>switch</code> statementlarında kullanılır:\n",
    "\n",
    "<img src = \"https://i.hizliresim.com/bjetqfz.png\">\n",
    "\n",
    "### Neden ve Ne Zaman Enum Kullanırsın?\n",
    "\n",
    "* Aylar, günler, renkler, kart destesi gibi değişmeyeceğini bildiğin değerlerin olduğunda kullan."
   ]
  }
 ],
 "metadata": {
  "kernelspec": {
   "display_name": "Python 3 (ipykernel)",
   "language": "python",
   "name": "python3"
  },
  "language_info": {
   "codemirror_mode": {
    "name": "ipython",
    "version": 3
   },
   "file_extension": ".py",
   "mimetype": "text/x-python",
   "name": "python",
   "nbconvert_exporter": "python",
   "pygments_lexer": "ipython3",
   "version": "3.11.1"
  }
 },
 "nbformat": 4,
 "nbformat_minor": 5
}
