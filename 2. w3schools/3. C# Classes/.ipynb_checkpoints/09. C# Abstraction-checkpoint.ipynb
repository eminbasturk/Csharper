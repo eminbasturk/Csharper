{
 "cells": [
  {
   "cell_type": "markdown",
   "id": "2f5c432b",
   "metadata": {},
   "source": [
    "# Abstract Classes and Methods\n",
    "\n",
    "Veri **soyutlama**, belirli ayrıntıları gizleme ve kullanıcıya yalnızca gerekli bilgileri gösterme işlemidir. Soyutlama, **abstract classlar** veya **interfaceler** ile gerçekleştirilebilir.\n",
    "\n",
    "<code>abstract</code> keywordü, classlar ve methodlar için kullanılır:\n",
    "\n",
    "* **Abstract class**: Obje oluşturmak için kullanılamayan kısıtlı bir classtır (erişmek için başka bir sınıftan miras alınmalıdır).\n",
    "* **Abstract method**: Sadece abstract bir classta kullanılabilir ve gövdesi yoktur. Gövde, child class tarafından sağlanır (miras alınır).\n",
    "\n",
    "Abstract bir classın hem abstract hem de normal methodları olabilir: \n",
    "\n",
    "<img src = \"https://i.hizliresim.com/h3eqry5.png\">\n",
    "\n",
    "Yukarıdaki örnekte, Animal classından bir obje yaratmak mümkün değildir:\n",
    "\n",
    "<img src = \"https://i.hizliresim.com/mje1fci.png\">\n",
    "\n",
    "* Bir hata oluşturur (\"Animal\" abstract classının veya interfaceinin bir örneği oluşturulamaz)\n",
    "\n",
    "Abstract classa erişmek için başka bir classtan miras alınması gerekir. Polymorphism bölümünde kullanılan Animal classını abstract bir classa çevirelim.\n",
    "\n",
    "Inheritance bölümünden, bir classtan miras almak için <code>:</code> sembolünü kullandığını ve parent class methodunu geçersiz kılmak için <code>override</code> keywordünü kullandığını hatırla.\n",
    "\n",
    "<img src = \"https://i.hizliresim.com/fi4fxud.png\">\n",
    "\n",
    "### Abstract Classlar ve Methodlar Neden ve Ne Zaman Kullanılmalı?\n",
    "\n",
    "Güvenliği sağlamak için - belirli ayrıntıları gizle ve bir objenin yalnızca önemli ayrıntılarını göster."
   ]
  }
 ],
 "metadata": {
  "kernelspec": {
   "display_name": "Python 3 (ipykernel)",
   "language": "python",
   "name": "python3"
  },
  "language_info": {
   "codemirror_mode": {
    "name": "ipython",
    "version": 3
   },
   "file_extension": ".py",
   "mimetype": "text/x-python",
   "name": "python",
   "nbconvert_exporter": "python",
   "pygments_lexer": "ipython3",
   "version": "3.11.1"
  }
 },
 "nbformat": 4,
 "nbformat_minor": 5
}
