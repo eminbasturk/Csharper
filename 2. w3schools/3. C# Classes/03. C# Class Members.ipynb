{
 "cells": [
  {
   "cell_type": "markdown",
   "id": "97c0e653",
   "metadata": {},
   "source": [
    "# Class Members\n",
    "\n",
    "Classların içindeki fieldlar ve methodlar genellikle \"Class Members\" olarak adlandırılır:\n",
    "\n",
    "**Example**: Üç class memberi olan bir <code>Car</code> classı oluştur: **iki field** ve **bir method**.\n",
    "\n",
    "<img src = \"https://i.hizliresim.com/s763ary.png\">\n",
    "\n",
    "## Fields\n",
    "\n",
    "Önceki bölümde, bir class içindeki değişkenlere field adı verildiğini ve classın bir objesini oluşturarak ve nokta syntaxını (<code>.</code>) kullanarak bunlara erişebileceğini öğrendin. \n",
    "\n",
    "Aşağıdaki örnek, <code>myObj</code> adıyla <code>Car</code> classından bir obje yaratacaktır. Ardından <code>color</code> ve <code>maxSpeed</code> fieldlarının değerini yazdırıyoruz: \n",
    "\n",
    "<img src = \"https://i.hizliresim.com/njgmyyp.png\">\n",
    "\n",
    "Ayrıca fieldları boş bırakabilir ve objeyi oluştururken değiştirebilirsin: \n",
    "\n",
    "<img src = \"https://i.hizliresim.com/5il6312.png\">\n",
    "\n",
    "Bu, özellikle bir classdan birden çok obje oluştururken kullanışlıdır: \n",
    "\n",
    "<img src = \"https://i.hizliresim.com/dh3l8sl.png\">\n",
    "\n",
    "## Object Methods\n",
    "\n",
    "Methodlar normalde bir classa aittir ve bir classtaki bir objeni nasıl davranacağını tanımlar.\n",
    "\n",
    "Fieldlarda olduğu gibi, nokta syntaxı ile methodlara erişebilirsin. Ancak methodun <code>public</code> olması gerektiğini unutma. Ve methodun adını iki parantez <code>()</code> ve bir noktalı virgülle <code>;</code> takip ettiğimizi unutma; methodu çağırmak (yürütmek) için:\n",
    "\n",
    "<img src = \"https://i.hizliresim.com/crbbn2p.png\">\n",
    "\n",
    "### Note\n",
    "\n",
    "Neden method <code>static</code> değil de <code>public</code> olarak tanımlandı?\n",
    "\n",
    "Nedeni basit: <code>static</code> bir methoda classın bir objesi oluşturulmadan erişilebilirken, <code>public</code> methodlara yalnızca objeler tarafından erişilebilir. \n",
    "\n",
    "## Use Multiple Classes\n",
    "\n",
    "### prog2.cs\n",
    "\n",
    "<img src = \"https://i.hizliresim.com/97gipyz.png\">\n",
    "\n",
    "### prog.cs\n",
    "\n",
    "<img src = \"https://i.hizliresim.com/9mxfubc.png\">\n",
    "\n",
    "### Note\n",
    "\n",
    "<code>public</code> keywordü, <code>Car</code> fieldlarının <code>Program</code> gibi diğer classlar için de erişilebilir olduğunu belirten bir **access modifier** olarak adlandırılır.\n",
    "\n"
   ]
  }
 ],
 "metadata": {
  "kernelspec": {
   "display_name": "Python 3 (ipykernel)",
   "language": "python",
   "name": "python3"
  },
  "language_info": {
   "codemirror_mode": {
    "name": "ipython",
    "version": 3
   },
   "file_extension": ".py",
   "mimetype": "text/x-python",
   "name": "python",
   "nbconvert_exporter": "python",
   "pygments_lexer": "ipython3",
   "version": "3.11.1"
  }
 },
 "nbformat": 4,
 "nbformat_minor": 5
}
